{
 "cells": [
  {
   "cell_type": "code",
   "execution_count": 1,
   "metadata": {
    "pycharm": {
     "is_executing": false,
     "metadata": false,
     "name": "#%%\n"
    }
   },
   "outputs": [],
   "source": [
    "import re\n",
    "import matplotlib.pyplot as plt\n",
    "from scipy.optimize import minimize\n",
    "import numpy as np\n",
    "import math\n",
    "from collections import Counter\n",
    "import json"
   ]
  },
  {
   "cell_type": "markdown",
   "metadata": {},
   "source": [
    "#### We first count all the words present in the text file using a counter"
   ]
  },
  {
   "cell_type": "code",
   "execution_count": 2,
   "metadata": {
    "pycharm": {
     "metadata": false,
     "name": "#%%\n"
    }
   },
   "outputs": [],
   "source": [
    "words = Counter()\n",
    "\n",
    "with open('./text.txt', 'r') as text:\n",
    "    content = text.read().split(' ')\n",
    "    for word in content:\n",
    "        word = re.sub(r'[^\\w+]', '', word).lower()\n",
    "        if word in words.keys():\n",
    "            words[word] += 1\n",
    "        else:\n",
    "            words[word] = 1"
   ]
  },
  {
   "cell_type": "code",
   "execution_count": 3,
   "metadata": {},
   "outputs": [],
   "source": [
    "# Dump them for use later\n",
    "with open('./results.json', 'w') as data:\n",
    "    data.write(json.dumps(words.most_common(), indent=4))"
   ]
  },
  {
   "cell_type": "markdown",
   "metadata": {},
   "source": [
    "Here we extract the words and frequencies seperately from the counter object"
   ]
  },
  {
   "cell_type": "code",
   "execution_count": 4,
   "metadata": {},
   "outputs": [],
   "source": [
    "# Extract sorted words and frequencies from counter object\n",
    "sorted_words = [word[0] for word in words.most_common()]\n",
    "sorted_freq = [word[1] for word in words.most_common()]\n",
    "ranks = list(range(1, len(sorted_words)+1))"
   ]
  },
  {
   "cell_type": "markdown",
   "metadata": {},
   "source": [
    "#### Here we estimate the slope of the log-log relation using a log MLE"
   ]
  },
  {
   "cell_type": "code",
   "execution_count": 6,
   "metadata": {},
   "outputs": [
    {
     "name": "stdout",
     "output_type": "stream",
     "text": [
      "Best slope is: 0.9690786609757311\n"
     ]
    }
   ],
   "source": [
    "def loglik(b):  \n",
    "    # Power law function\n",
    "    rank_vector = np.array(ranks)**(-b)\n",
    "\n",
    "    # Normalized\n",
    "    norm_rank_vector = rank_vector/rank_vector.sum()\n",
    "    freq_rank_vector = np.log(norm_rank_vector) * np.array(sorted_freq)\n",
    "\n",
    "    sum = freq_rank_vector.sum()\n",
    "    return -sum\n",
    "\n",
    "\n",
    "s_best = minimize(loglik, np.array([2]))\n",
    "\n",
    "print(f\"Best slope is: {s_best.x[0]}\")"
   ]
  },
  {
   "cell_type": "markdown",
   "metadata": {},
   "source": [
    "####  Create a log-log plot with the fitted curve and the frequency data"
   ]
  },
  {
   "cell_type": "code",
   "execution_count": 7,
   "metadata": {},
   "outputs": [
    {
     "data": {
      "image/png": "[encoded data removed]",
      "text/plain": [
       "<Figure size 432x288 with 1 Axes>"
      ]
     },
     "metadata": {
      "needs_background": "light"
     },
     "output_type": "display_data"
    }
   ],
   "source": [
    "# Create the plot\n",
    "fig = plt.figure()\n",
    "plt.xlabel('log(Rank of word)')\n",
    "plt.ylabel('log(frequency)')\n",
    "\n",
    "plt.xscale('log')\n",
    "plt.yscale('log')\n",
    "\n",
    "x = np.linspace(1, len(sorted_freq), 1000)\n",
    "y = sorted_freq[0] * np.power(x, -s_best.x)\n",
    "\n",
    "plt.plot(x, y, '--r', label='Best fit')\n",
    "plt.scatter(ranks, sorted_freq, label='Word-frequency data')\n",
    "plt.legend()\n",
    "\n",
    "plt.show()"
   ]
  },
  {
   "cell_type": "code",
   "execution_count": 8,
   "metadata": {},
   "outputs": [
    {
     "name": "stdout",
     "output_type": "stream",
     "text": [
      "Input a rank: 400\n",
      "You chose the word forward with frequency 53\n",
      "Calculated frequency is: 37\n"
     ]
    }
   ],
   "source": [
    "def zipf_freq(rank, slope, most_freq_word):\n",
    "    return math.floor(most_freq_word * math.pow(rank, slope))\n",
    "\n",
    "\n",
    "rank = int(input(\"Input a rank: \"))\n",
    "print(f\"You chose the word {sorted_words[rank-1]} with frequency {sorted_freq[rank-1]}\")\n",
    "print(f\"Calculated frequency is: {zipf_freq(rank, -s_best.x, sorted_freq[0])}\")"
   ]
  }
 ],
 "metadata": {
  "kernelspec": {
   "display_name": "Python 3",
   "language": "python",
   "name": "python3"
  },
  "language_info": {
   "codemirror_mode": {
    "name": "ipython",
    "version": 3
   },
   "file_extension": ".py",
   "mimetype": "text/x-python",
   "name": "python",
   "nbconvert_exporter": "python",
   "pygments_lexer": "ipython3",
   "version": "3.6.7"
  },
  "stem_cell": {
   "cell_type": "raw",
   "metadata": {
    "pycharm": {
     "metadata": false
    }
   },
   "source": ""
  }
 },
 "nbformat": 4,
 "nbformat_minor": 1
}
